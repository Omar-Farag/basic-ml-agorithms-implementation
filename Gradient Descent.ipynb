{
 "cells": [
  {
   "cell_type": "code",
   "execution_count": 1,
   "metadata": {},
   "outputs": [],
   "source": [
    "import numpy as np\n",
    "import matplotlib.pyplot as plt"
   ]
  },
  {
   "cell_type": "markdown",
   "metadata": {},
   "source": [
    "### Loss function for linear Regression\n",
    "\\begin{equation}\n",
    "J = MSE = \\frac{1}{2*N} * \\sum(Y - h(\\theta))^2\n",
    "\\end{equation}"
   ]
  },
  {
   "cell_type": "code",
   "execution_count": 2,
   "metadata": {},
   "outputs": [],
   "source": [
    "def cost_function(Y,X,theta):\n",
    "    \n",
    "    predictions = np.dot(X,theta)\n",
    "    \n",
    "    error = np.sum(np.square(Y-predictions))\n",
    "    \n",
    "    error = error/(2*len(Y))\n",
    "    \n",
    "    return error"
   ]
  },
  {
   "cell_type": "markdown",
   "metadata": {},
   "source": [
    "### Gradient Descent\n",
    "#### Optimizing parameters depends on partial derivatives (as each paramater contribute to the model performance)\n",
    "\\begin{equation}\n",
    "\\frac{1}{N} \\frac{\\partial J}{\\partial m} =\\sum [-2*X (Y - (m*X + b))]\n",
    "\\end{equation}\n",
    "\n",
    "\\begin{equation}\n",
    "\\frac{1}{N} \\frac{\\partial J}{\\partial b} = \\sum [-2* (Y - (m*X + b))]\n",
    "\\end{equation}\n",
    "\n",
    "\\begin{equation}\n",
    "    \\theta = \\theta - \\alpha * \\frac{\\partial J(\\theta)}{\\partial \\theta}\n",
    "\\end{equation}"
   ]
  },
  {
   "cell_type": "code",
   "execution_count": 3,
   "metadata": {},
   "outputs": [],
   "source": [
    "def update_weights(y_truth,X,theta,lr): # one iter of gradient descent:\n",
    "    \n",
    "    m=len(y_truth)\n",
    "    predictions = np.dot(X,theta)\n",
    "        \n",
    "    theta = theta - (1/m) * lr * X.T.dot(predictions - y)\n",
    "    \n",
    "    return theta"
   ]
  },
  {
   "cell_type": "code",
   "execution_count": 4,
   "metadata": {},
   "outputs": [],
   "source": [
    "def gradient_descent(X,y,theta,lr=0.01,iterations=100):\n",
    "    '''\n",
    "    X    = Matrix of X with added bias units\n",
    "    y    = Vector of Y\n",
    "    theta=Vector of thetas np.random.randn(j,1)\n",
    "    learning_rate \n",
    "    iterations = no of iterations\n",
    "    \n",
    "    Returns the final theta vector and array of cost history over no of iterations\n",
    "    '''\n",
    "    m = len(y)\n",
    "    cost_history = []\n",
    "    theta_history = []\n",
    "    \n",
    "    for i in range(iterations):\n",
    "        \n",
    "        \n",
    "        theta = update_weights(y,X,theta,lr)\n",
    "        \n",
    "        theta_history.append(theta.T)\n",
    "        \n",
    "        cost_history.append(cost_function(y,X,theta))\n",
    "        \n",
    "        if(i%50==0):\n",
    "            print('iter: {:d}, Cost:  {:0.3f}'.format(i,cost_history[i]))\n",
    "        \n",
    "    return theta, cost_history, theta_history\n",
    "        \n",
    "    \n",
    "    "
   ]
  },
  {
   "cell_type": "code",
   "execution_count": 5,
   "metadata": {},
   "outputs": [],
   "source": [
    "X = 2 * np.random.rand(100,1)\n",
    "y = 4 + 3 * X+np.random.rand(100,1)"
   ]
  },
  {
   "cell_type": "code",
   "execution_count": 6,
   "metadata": {},
   "outputs": [
    {
     "output_type": "execute_result",
     "data": {
      "text/plain": [
       "Text(0, 0.5, 'y')"
      ]
     },
     "metadata": {},
     "execution_count": 6
    },
    {
     "output_type": "display_data",
     "data": {
      "text/plain": "<Figure size 432x288 with 1 Axes>",
      "image/svg+xml": "<?xml version=\"1.0\" encoding=\"utf-8\" standalone=\"no\"?>\n<!DOCTYPE svg PUBLIC \"-//W3C//DTD SVG 1.1//EN\"\n  \"http://www.w3.org/Graphics/SVG/1.1/DTD/svg11.dtd\">\n<!-- Created with matplotlib (https://matplotlib.org/) -->\n<svg height=\"271.874375pt\" version=\"1.1\" viewBox=\"0 0 392.28125 271.874375\" width=\"392.28125pt\" xmlns=\"http://www.w3.org/2000/svg\" xmlns:xlink=\"http://www.w3.org/1999/xlink\">\n <metadata>\n  <rdf:RDF xmlns:cc=\"http://creativecommons.org/ns#\" xmlns:dc=\"http://purl.org/dc/elements/1.1/\" xmlns:rdf=\"http://www.w3.org/1999/02/22-rdf-syntax-ns#\">\n   <cc:Work>\n    <dc:type rdf:resource=\"http://purl.org/dc/dcmitype/StillImage\"/>\n    <dc:date>2021-03-22T02:31:54.018871</dc:date>\n    <dc:format>image/svg+xml</dc:format>\n    <dc:creator>\n     <cc:Agent>\n      <dc:title>Matplotlib v3.3.4, https://matplotlib.org/</dc:title>\n     </cc:Agent>\n    </dc:creator>\n   </cc:Work>\n  </rdf:RDF>\n </metadata>\n <defs>\n  <style type=\"text/css\">*{stroke-linecap:butt;stroke-linejoin:round;}</style>\n </defs>\n <g id=\"figure_1\">\n  <g id=\"patch_1\">\n   <path d=\"M 0 271.874375 \nL 392.28125 271.874375 \nL 392.28125 0 \nL 0 0 \nz\n\" style=\"fill:none;\"/>\n  </g>\n  <g id=\"axes_1\">\n   <g id=\"patch_2\">\n    <path d=\"M 50.28125 224.64 \nL 385.08125 224.64 \nL 385.08125 7.2 \nL 50.28125 7.2 \nz\n\" style=\"fill:#ffffff;\"/>\n   </g>\n   <g id=\"matplotlib.axis_1\">\n    <g id=\"xtick_1\">\n     <g id=\"line2d_1\">\n      <defs>\n       <path d=\"M 0 0 \nL 0 3.5 \n\" id=\"m020cc49d24\" style=\"stroke:#000000;stroke-width:0.8;\"/>\n      </defs>\n      <g>\n       <use style=\"stroke:#000000;stroke-width:0.8;\" x=\"64.809085\" xlink:href=\"#m020cc49d24\" y=\"224.64\"/>\n      </g>\n     </g>\n     <g id=\"text_1\">\n      <!-- 0.00 -->\n      <g transform=\"translate(53.676273 239.238437)scale(0.1 -0.1)\">\n       <defs>\n        <path d=\"M 31.78125 66.40625 \nQ 24.171875 66.40625 20.328125 58.90625 \nQ 16.5 51.421875 16.5 36.375 \nQ 16.5 21.390625 20.328125 13.890625 \nQ 24.171875 6.390625 31.78125 6.390625 \nQ 39.453125 6.390625 43.28125 13.890625 \nQ 47.125 21.390625 47.125 36.375 \nQ 47.125 51.421875 43.28125 58.90625 \nQ 39.453125 66.40625 31.78125 66.40625 \nz\nM 31.78125 74.21875 \nQ 44.046875 74.21875 50.515625 64.515625 \nQ 56.984375 54.828125 56.984375 36.375 \nQ 56.984375 17.96875 50.515625 8.265625 \nQ 44.046875 -1.421875 31.78125 -1.421875 \nQ 19.53125 -1.421875 13.0625 8.265625 \nQ 6.59375 17.96875 6.59375 36.375 \nQ 6.59375 54.828125 13.0625 64.515625 \nQ 19.53125 74.21875 31.78125 74.21875 \nz\n\" id=\"DejaVuSans-48\"/>\n        <path d=\"M 10.6875 12.40625 \nL 21 12.40625 \nL 21 0 \nL 10.6875 0 \nz\n\" id=\"DejaVuSans-46\"/>\n       </defs>\n       <use xlink:href=\"#DejaVuSans-48\"/>\n       <use x=\"63.623047\" xlink:href=\"#DejaVuSans-46\"/>\n       <use x=\"95.410156\" xlink:href=\"#DejaVuSans-48\"/>\n       <use x=\"159.033203\" xlink:href=\"#DejaVuSans-48\"/>\n      </g>\n     </g>\n    </g>\n    <g id=\"xtick_2\">\n     <g id=\"line2d_2\">\n      <g>\n       <use style=\"stroke:#000000;stroke-width:0.8;\" x=\"103.034232\" xlink:href=\"#m020cc49d24\" y=\"224.64\"/>\n      </g>\n     </g>\n     <g id=\"text_2\">\n      <!-- 0.25 -->\n      <g transform=\"translate(91.90142 239.238437)scale(0.1 -0.1)\">\n       <defs>\n        <path d=\"M 19.1875 8.296875 \nL 53.609375 8.296875 \nL 53.609375 0 \nL 7.328125 0 \nL 7.328125 8.296875 \nQ 12.9375 14.109375 22.625 23.890625 \nQ 32.328125 33.6875 34.8125 36.53125 \nQ 39.546875 41.84375 41.421875 45.53125 \nQ 43.3125 49.21875 43.3125 52.78125 \nQ 43.3125 58.59375 39.234375 62.25 \nQ 35.15625 65.921875 28.609375 65.921875 \nQ 23.96875 65.921875 18.8125 64.3125 \nQ 13.671875 62.703125 7.8125 59.421875 \nL 7.8125 69.390625 \nQ 13.765625 71.78125 18.9375 73 \nQ 24.125 74.21875 28.421875 74.21875 \nQ 39.75 74.21875 46.484375 68.546875 \nQ 53.21875 62.890625 53.21875 53.421875 \nQ 53.21875 48.921875 51.53125 44.890625 \nQ 49.859375 40.875 45.40625 35.40625 \nQ 44.1875 33.984375 37.640625 27.21875 \nQ 31.109375 20.453125 19.1875 8.296875 \nz\n\" id=\"DejaVuSans-50\"/>\n        <path d=\"M 10.796875 72.90625 \nL 49.515625 72.90625 \nL 49.515625 64.59375 \nL 19.828125 64.59375 \nL 19.828125 46.734375 \nQ 21.96875 47.46875 24.109375 47.828125 \nQ 26.265625 48.1875 28.421875 48.1875 \nQ 40.625 48.1875 47.75 41.5 \nQ 54.890625 34.8125 54.890625 23.390625 \nQ 54.890625 11.625 47.5625 5.09375 \nQ 40.234375 -1.421875 26.90625 -1.421875 \nQ 22.3125 -1.421875 17.546875 -0.640625 \nQ 12.796875 0.140625 7.71875 1.703125 \nL 7.71875 11.625 \nQ 12.109375 9.234375 16.796875 8.0625 \nQ 21.484375 6.890625 26.703125 6.890625 \nQ 35.15625 6.890625 40.078125 11.328125 \nQ 45.015625 15.765625 45.015625 23.390625 \nQ 45.015625 31 40.078125 35.4375 \nQ 35.15625 39.890625 26.703125 39.890625 \nQ 22.75 39.890625 18.8125 39.015625 \nQ 14.890625 38.140625 10.796875 36.28125 \nz\n\" id=\"DejaVuSans-53\"/>\n       </defs>\n       <use xlink:href=\"#DejaVuSans-48\"/>\n       <use x=\"63.623047\" xlink:href=\"#DejaVuSans-46\"/>\n       <use x=\"95.410156\" xlink:href=\"#DejaVuSans-50\"/>\n       <use x=\"159.033203\" xlink:href=\"#DejaVuSans-53\"/>\n      </g>\n     </g>\n    </g>\n    <g id=\"xtick_3\">\n     <g id=\"line2d_3\">\n      <g>\n       <use style=\"stroke:#000000;stroke-width:0.8;\" x=\"141.259379\" xlink:href=\"#m020cc49d24\" y=\"224.64\"/>\n      </g>\n     </g>\n     <g id=\"text_3\">\n      <!-- 0.50 -->\n      <g transform=\"translate(130.126567 239.238437)scale(0.1 -0.1)\">\n       <use xlink:href=\"#DejaVuSans-48\"/>\n       <use x=\"63.623047\" xlink:href=\"#DejaVuSans-46\"/>\n       <use x=\"95.410156\" xlink:href=\"#DejaVuSans-53\"/>\n       <use x=\"159.033203\" xlink:href=\"#DejaVuSans-48\"/>\n      </g>\n     </g>\n    </g>\n    <g id=\"xtick_4\">\n     <g id=\"line2d_4\">\n      <g>\n       <use style=\"stroke:#000000;stroke-width:0.8;\" x=\"179.484526\" xlink:href=\"#m020cc49d24\" y=\"224.64\"/>\n      </g>\n     </g>\n     <g id=\"text_4\">\n      <!-- 0.75 -->\n      <g transform=\"translate(168.351714 239.238437)scale(0.1 -0.1)\">\n       <defs>\n        <path d=\"M 8.203125 72.90625 \nL 55.078125 72.90625 \nL 55.078125 68.703125 \nL 28.609375 0 \nL 18.3125 0 \nL 43.21875 64.59375 \nL 8.203125 64.59375 \nz\n\" id=\"DejaVuSans-55\"/>\n       </defs>\n       <use xlink:href=\"#DejaVuSans-48\"/>\n       <use x=\"63.623047\" xlink:href=\"#DejaVuSans-46\"/>\n       <use x=\"95.410156\" xlink:href=\"#DejaVuSans-55\"/>\n       <use x=\"159.033203\" xlink:href=\"#DejaVuSans-53\"/>\n      </g>\n     </g>\n    </g>\n    <g id=\"xtick_5\">\n     <g id=\"line2d_5\">\n      <g>\n       <use style=\"stroke:#000000;stroke-width:0.8;\" x=\"217.709673\" xlink:href=\"#m020cc49d24\" y=\"224.64\"/>\n      </g>\n     </g>\n     <g id=\"text_5\">\n      <!-- 1.00 -->\n      <g transform=\"translate(206.576861 239.238437)scale(0.1 -0.1)\">\n       <defs>\n        <path d=\"M 12.40625 8.296875 \nL 28.515625 8.296875 \nL 28.515625 63.921875 \nL 10.984375 60.40625 \nL 10.984375 69.390625 \nL 28.421875 72.90625 \nL 38.28125 72.90625 \nL 38.28125 8.296875 \nL 54.390625 8.296875 \nL 54.390625 0 \nL 12.40625 0 \nz\n\" id=\"DejaVuSans-49\"/>\n       </defs>\n       <use xlink:href=\"#DejaVuSans-49\"/>\n       <use x=\"63.623047\" xlink:href=\"#DejaVuSans-46\"/>\n       <use x=\"95.410156\" xlink:href=\"#DejaVuSans-48\"/>\n       <use x=\"159.033203\" xlink:href=\"#DejaVuSans-48\"/>\n      </g>\n     </g>\n    </g>\n    <g id=\"xtick_6\">\n     <g id=\"line2d_6\">\n      <g>\n       <use style=\"stroke:#000000;stroke-width:0.8;\" x=\"255.93482\" xlink:href=\"#m020cc49d24\" y=\"224.64\"/>\n      </g>\n     </g>\n     <g id=\"text_6\">\n      <!-- 1.25 -->\n      <g transform=\"translate(244.802008 239.238437)scale(0.1 -0.1)\">\n       <use xlink:href=\"#DejaVuSans-49\"/>\n       <use x=\"63.623047\" xlink:href=\"#DejaVuSans-46\"/>\n       <use x=\"95.410156\" xlink:href=\"#DejaVuSans-50\"/>\n       <use x=\"159.033203\" xlink:href=\"#DejaVuSans-53\"/>\n      </g>\n     </g>\n    </g>\n    <g id=\"xtick_7\">\n     <g id=\"line2d_7\">\n      <g>\n       <use style=\"stroke:#000000;stroke-width:0.8;\" x=\"294.159967\" xlink:href=\"#m020cc49d24\" y=\"224.64\"/>\n      </g>\n     </g>\n     <g id=\"text_7\">\n      <!-- 1.50 -->\n      <g transform=\"translate(283.027155 239.238437)scale(0.1 -0.1)\">\n       <use xlink:href=\"#DejaVuSans-49\"/>\n       <use x=\"63.623047\" xlink:href=\"#DejaVuSans-46\"/>\n       <use x=\"95.410156\" xlink:href=\"#DejaVuSans-53\"/>\n       <use x=\"159.033203\" xlink:href=\"#DejaVuSans-48\"/>\n      </g>\n     </g>\n    </g>\n    <g id=\"xtick_8\">\n     <g id=\"line2d_8\">\n      <g>\n       <use style=\"stroke:#000000;stroke-width:0.8;\" x=\"332.385114\" xlink:href=\"#m020cc49d24\" y=\"224.64\"/>\n      </g>\n     </g>\n     <g id=\"text_8\">\n      <!-- 1.75 -->\n      <g transform=\"translate(321.252302 239.238437)scale(0.1 -0.1)\">\n       <use xlink:href=\"#DejaVuSans-49\"/>\n       <use x=\"63.623047\" xlink:href=\"#DejaVuSans-46\"/>\n       <use x=\"95.410156\" xlink:href=\"#DejaVuSans-55\"/>\n       <use x=\"159.033203\" xlink:href=\"#DejaVuSans-53\"/>\n      </g>\n     </g>\n    </g>\n    <g id=\"xtick_9\">\n     <g id=\"line2d_9\">\n      <g>\n       <use style=\"stroke:#000000;stroke-width:0.8;\" x=\"370.610261\" xlink:href=\"#m020cc49d24\" y=\"224.64\"/>\n      </g>\n     </g>\n     <g id=\"text_9\">\n      <!-- 2.00 -->\n      <g transform=\"translate(359.477449 239.238437)scale(0.1 -0.1)\">\n       <use xlink:href=\"#DejaVuSans-50\"/>\n       <use x=\"63.623047\" xlink:href=\"#DejaVuSans-46\"/>\n       <use x=\"95.410156\" xlink:href=\"#DejaVuSans-48\"/>\n       <use x=\"159.033203\" xlink:href=\"#DejaVuSans-48\"/>\n      </g>\n     </g>\n    </g>\n    <g id=\"text_10\">\n     <!-- x -->\n     <g transform=\"translate(211.7625 260.515)scale(0.2 -0.2)\">\n      <defs>\n       <path d=\"M 54.890625 54.6875 \nL 35.109375 28.078125 \nL 55.90625 0 \nL 45.3125 0 \nL 29.390625 21.484375 \nL 13.484375 0 \nL 2.875 0 \nL 24.125 28.609375 \nL 4.6875 54.6875 \nL 15.28125 54.6875 \nL 29.78125 35.203125 \nL 44.28125 54.6875 \nz\n\" id=\"DejaVuSans-120\"/>\n      </defs>\n      <use xlink:href=\"#DejaVuSans-120\"/>\n     </g>\n    </g>\n   </g>\n   <g id=\"matplotlib.axis_2\">\n    <g id=\"ytick_1\">\n     <g id=\"line2d_10\">\n      <defs>\n       <path d=\"M 0 0 \nL -3.5 0 \n\" id=\"m2ebe887a5f\" style=\"stroke:#000000;stroke-width:0.8;\"/>\n      </defs>\n      <g>\n       <use style=\"stroke:#000000;stroke-width:0.8;\" x=\"50.28125\" xlink:href=\"#m2ebe887a5f\" y=\"196.207175\"/>\n      </g>\n     </g>\n     <g id=\"text_11\">\n      <!-- 5 -->\n      <g transform=\"translate(36.91875 200.006394)scale(0.1 -0.1)\">\n       <use xlink:href=\"#DejaVuSans-53\"/>\n      </g>\n     </g>\n    </g>\n    <g id=\"ytick_2\">\n     <g id=\"line2d_11\">\n      <g>\n       <use style=\"stroke:#000000;stroke-width:0.8;\" x=\"50.28125\" xlink:href=\"#m2ebe887a5f\" y=\"165.458209\"/>\n      </g>\n     </g>\n     <g id=\"text_12\">\n      <!-- 6 -->\n      <g transform=\"translate(36.91875 169.257428)scale(0.1 -0.1)\">\n       <defs>\n        <path d=\"M 33.015625 40.375 \nQ 26.375 40.375 22.484375 35.828125 \nQ 18.609375 31.296875 18.609375 23.390625 \nQ 18.609375 15.53125 22.484375 10.953125 \nQ 26.375 6.390625 33.015625 6.390625 \nQ 39.65625 6.390625 43.53125 10.953125 \nQ 47.40625 15.53125 47.40625 23.390625 \nQ 47.40625 31.296875 43.53125 35.828125 \nQ 39.65625 40.375 33.015625 40.375 \nz\nM 52.59375 71.296875 \nL 52.59375 62.3125 \nQ 48.875 64.0625 45.09375 64.984375 \nQ 41.3125 65.921875 37.59375 65.921875 \nQ 27.828125 65.921875 22.671875 59.328125 \nQ 17.53125 52.734375 16.796875 39.40625 \nQ 19.671875 43.65625 24.015625 45.921875 \nQ 28.375 48.1875 33.59375 48.1875 \nQ 44.578125 48.1875 50.953125 41.515625 \nQ 57.328125 34.859375 57.328125 23.390625 \nQ 57.328125 12.15625 50.6875 5.359375 \nQ 44.046875 -1.421875 33.015625 -1.421875 \nQ 20.359375 -1.421875 13.671875 8.265625 \nQ 6.984375 17.96875 6.984375 36.375 \nQ 6.984375 53.65625 15.1875 63.9375 \nQ 23.390625 74.21875 37.203125 74.21875 \nQ 40.921875 74.21875 44.703125 73.484375 \nQ 48.484375 72.75 52.59375 71.296875 \nz\n\" id=\"DejaVuSans-54\"/>\n       </defs>\n       <use xlink:href=\"#DejaVuSans-54\"/>\n      </g>\n     </g>\n    </g>\n    <g id=\"ytick_3\">\n     <g id=\"line2d_12\">\n      <g>\n       <use style=\"stroke:#000000;stroke-width:0.8;\" x=\"50.28125\" xlink:href=\"#m2ebe887a5f\" y=\"134.709244\"/>\n      </g>\n     </g>\n     <g id=\"text_13\">\n      <!-- 7 -->\n      <g transform=\"translate(36.91875 138.508463)scale(0.1 -0.1)\">\n       <use xlink:href=\"#DejaVuSans-55\"/>\n      </g>\n     </g>\n    </g>\n    <g id=\"ytick_4\">\n     <g id=\"line2d_13\">\n      <g>\n       <use style=\"stroke:#000000;stroke-width:0.8;\" x=\"50.28125\" xlink:href=\"#m2ebe887a5f\" y=\"103.960279\"/>\n      </g>\n     </g>\n     <g id=\"text_14\">\n      <!-- 8 -->\n      <g transform=\"translate(36.91875 107.759497)scale(0.1 -0.1)\">\n       <defs>\n        <path d=\"M 31.78125 34.625 \nQ 24.75 34.625 20.71875 30.859375 \nQ 16.703125 27.09375 16.703125 20.515625 \nQ 16.703125 13.921875 20.71875 10.15625 \nQ 24.75 6.390625 31.78125 6.390625 \nQ 38.8125 6.390625 42.859375 10.171875 \nQ 46.921875 13.96875 46.921875 20.515625 \nQ 46.921875 27.09375 42.890625 30.859375 \nQ 38.875 34.625 31.78125 34.625 \nz\nM 21.921875 38.8125 \nQ 15.578125 40.375 12.03125 44.71875 \nQ 8.5 49.078125 8.5 55.328125 \nQ 8.5 64.0625 14.71875 69.140625 \nQ 20.953125 74.21875 31.78125 74.21875 \nQ 42.671875 74.21875 48.875 69.140625 \nQ 55.078125 64.0625 55.078125 55.328125 \nQ 55.078125 49.078125 51.53125 44.71875 \nQ 48 40.375 41.703125 38.8125 \nQ 48.828125 37.15625 52.796875 32.3125 \nQ 56.78125 27.484375 56.78125 20.515625 \nQ 56.78125 9.90625 50.3125 4.234375 \nQ 43.84375 -1.421875 31.78125 -1.421875 \nQ 19.734375 -1.421875 13.25 4.234375 \nQ 6.78125 9.90625 6.78125 20.515625 \nQ 6.78125 27.484375 10.78125 32.3125 \nQ 14.796875 37.15625 21.921875 38.8125 \nz\nM 18.3125 54.390625 \nQ 18.3125 48.734375 21.84375 45.5625 \nQ 25.390625 42.390625 31.78125 42.390625 \nQ 38.140625 42.390625 41.71875 45.5625 \nQ 45.3125 48.734375 45.3125 54.390625 \nQ 45.3125 60.0625 41.71875 63.234375 \nQ 38.140625 66.40625 31.78125 66.40625 \nQ 25.390625 66.40625 21.84375 63.234375 \nQ 18.3125 60.0625 18.3125 54.390625 \nz\n\" id=\"DejaVuSans-56\"/>\n       </defs>\n       <use xlink:href=\"#DejaVuSans-56\"/>\n      </g>\n     </g>\n    </g>\n    <g id=\"ytick_5\">\n     <g id=\"line2d_14\">\n      <g>\n       <use style=\"stroke:#000000;stroke-width:0.8;\" x=\"50.28125\" xlink:href=\"#m2ebe887a5f\" y=\"73.211313\"/>\n      </g>\n     </g>\n     <g id=\"text_15\">\n      <!-- 9 -->\n      <g transform=\"translate(36.91875 77.010532)scale(0.1 -0.1)\">\n       <defs>\n        <path d=\"M 10.984375 1.515625 \nL 10.984375 10.5 \nQ 14.703125 8.734375 18.5 7.8125 \nQ 22.3125 6.890625 25.984375 6.890625 \nQ 35.75 6.890625 40.890625 13.453125 \nQ 46.046875 20.015625 46.78125 33.40625 \nQ 43.953125 29.203125 39.59375 26.953125 \nQ 35.25 24.703125 29.984375 24.703125 \nQ 19.046875 24.703125 12.671875 31.3125 \nQ 6.296875 37.9375 6.296875 49.421875 \nQ 6.296875 60.640625 12.9375 67.421875 \nQ 19.578125 74.21875 30.609375 74.21875 \nQ 43.265625 74.21875 49.921875 64.515625 \nQ 56.59375 54.828125 56.59375 36.375 \nQ 56.59375 19.140625 48.40625 8.859375 \nQ 40.234375 -1.421875 26.421875 -1.421875 \nQ 22.703125 -1.421875 18.890625 -0.6875 \nQ 15.09375 0.046875 10.984375 1.515625 \nz\nM 30.609375 32.421875 \nQ 37.25 32.421875 41.125 36.953125 \nQ 45.015625 41.5 45.015625 49.421875 \nQ 45.015625 57.28125 41.125 61.84375 \nQ 37.25 66.40625 30.609375 66.40625 \nQ 23.96875 66.40625 20.09375 61.84375 \nQ 16.21875 57.28125 16.21875 49.421875 \nQ 16.21875 41.5 20.09375 36.953125 \nQ 23.96875 32.421875 30.609375 32.421875 \nz\n\" id=\"DejaVuSans-57\"/>\n       </defs>\n       <use xlink:href=\"#DejaVuSans-57\"/>\n      </g>\n     </g>\n    </g>\n    <g id=\"ytick_6\">\n     <g id=\"line2d_15\">\n      <g>\n       <use style=\"stroke:#000000;stroke-width:0.8;\" x=\"50.28125\" xlink:href=\"#m2ebe887a5f\" y=\"42.462348\"/>\n      </g>\n     </g>\n     <g id=\"text_16\">\n      <!-- 10 -->\n      <g transform=\"translate(30.55625 46.261567)scale(0.1 -0.1)\">\n       <use xlink:href=\"#DejaVuSans-49\"/>\n       <use x=\"63.623047\" xlink:href=\"#DejaVuSans-48\"/>\n      </g>\n     </g>\n    </g>\n    <g id=\"ytick_7\">\n     <g id=\"line2d_16\">\n      <g>\n       <use style=\"stroke:#000000;stroke-width:0.8;\" x=\"50.28125\" xlink:href=\"#m2ebe887a5f\" y=\"11.713382\"/>\n      </g>\n     </g>\n     <g id=\"text_17\">\n      <!-- 11 -->\n      <g transform=\"translate(30.55625 15.512601)scale(0.1 -0.1)\">\n       <use xlink:href=\"#DejaVuSans-49\"/>\n       <use x=\"63.623047\" xlink:href=\"#DejaVuSans-49\"/>\n      </g>\n     </g>\n    </g>\n    <g id=\"text_18\">\n     <!-- y -->\n     <g transform=\"translate(22.396875 121.83875)rotate(-90)scale(0.2 -0.2)\">\n      <defs>\n       <path d=\"M 32.171875 -5.078125 \nQ 28.375 -14.84375 24.75 -17.8125 \nQ 21.140625 -20.796875 15.09375 -20.796875 \nL 7.90625 -20.796875 \nL 7.90625 -13.28125 \nL 13.1875 -13.28125 \nQ 16.890625 -13.28125 18.9375 -11.515625 \nQ 21 -9.765625 23.484375 -3.21875 \nL 25.09375 0.875 \nL 2.984375 54.6875 \nL 12.5 54.6875 \nL 29.59375 11.921875 \nL 46.6875 54.6875 \nL 56.203125 54.6875 \nz\n\" id=\"DejaVuSans-121\"/>\n      </defs>\n      <use xlink:href=\"#DejaVuSans-121\"/>\n     </g>\n    </g>\n   </g>\n   <g id=\"line2d_17\">\n    <defs>\n     <path d=\"M 0 1.5 \nC 0.397805 1.5 0.77937 1.341951 1.06066 1.06066 \nC 1.341951 0.77937 1.5 0.397805 1.5 0 \nC 1.5 -0.397805 1.341951 -0.77937 1.06066 -1.06066 \nC 0.77937 -1.341951 0.397805 -1.5 0 -1.5 \nC -0.397805 -1.5 -0.77937 -1.341951 -1.06066 -1.06066 \nC -1.341951 -0.77937 -1.5 -0.397805 -1.5 0 \nC -1.5 0.397805 -1.341951 0.77937 -1.06066 1.06066 \nC -0.77937 1.341951 -0.397805 1.5 0 1.5 \nz\n\" id=\"m5cbf6a4378\" style=\"stroke:#0000ff;\"/>\n    </defs>\n    <g clip-path=\"url(#pf6d110acca)\">\n     <use style=\"fill:#0000ff;stroke:#0000ff;\" x=\"259.171438\" xlink:href=\"#m5cbf6a4378\" y=\"81.433775\"/>\n     <use style=\"fill:#0000ff;stroke:#0000ff;\" x=\"85.497359\" xlink:href=\"#m5cbf6a4378\" y=\"199.671873\"/>\n     <use style=\"fill:#0000ff;stroke:#0000ff;\" x=\"334.9059\" xlink:href=\"#m5cbf6a4378\" y=\"36.368912\"/>\n     <use style=\"fill:#0000ff;stroke:#0000ff;\" x=\"297.283365\" xlink:href=\"#m5cbf6a4378\" y=\"83.478802\"/>\n     <use style=\"fill:#0000ff;stroke:#0000ff;\" x=\"225.474346\" xlink:href=\"#m5cbf6a4378\" y=\"115.901104\"/>\n     <use style=\"fill:#0000ff;stroke:#0000ff;\" x=\"188.461604\" xlink:href=\"#m5cbf6a4378\" y=\"151.59431\"/>\n     <use style=\"fill:#0000ff;stroke:#0000ff;\" x=\"232.202131\" xlink:href=\"#m5cbf6a4378\" y=\"125.619293\"/>\n     <use style=\"fill:#0000ff;stroke:#0000ff;\" x=\"187.68036\" xlink:href=\"#m5cbf6a4378\" y=\"124.1035\"/>\n     <use style=\"fill:#0000ff;stroke:#0000ff;\" x=\"145.436443\" xlink:href=\"#m5cbf6a4378\" y=\"177.645549\"/>\n     <use style=\"fill:#0000ff;stroke:#0000ff;\" x=\"200.866575\" xlink:href=\"#m5cbf6a4378\" y=\"142.679073\"/>\n     <use style=\"fill:#0000ff;stroke:#0000ff;\" x=\"160.731541\" xlink:href=\"#m5cbf6a4378\" y=\"139.494412\"/>\n     <use style=\"fill:#0000ff;stroke:#0000ff;\" x=\"83.322129\" xlink:href=\"#m5cbf6a4378\" y=\"209.959346\"/>\n     <use style=\"fill:#0000ff;stroke:#0000ff;\" x=\"302.49928\" xlink:href=\"#m5cbf6a4378\" y=\"77.057434\"/>\n     <use style=\"fill:#0000ff;stroke:#0000ff;\" x=\"180.419799\" xlink:href=\"#m5cbf6a4378\" y=\"127.772554\"/>\n     <use style=\"fill:#0000ff;stroke:#0000ff;\" x=\"321.798265\" xlink:href=\"#m5cbf6a4378\" y=\"46.872768\"/>\n     <use style=\"fill:#0000ff;stroke:#0000ff;\" x=\"311.156389\" xlink:href=\"#m5cbf6a4378\" y=\"51.460305\"/>\n     <use style=\"fill:#0000ff;stroke:#0000ff;\" x=\"298.859827\" xlink:href=\"#m5cbf6a4378\" y=\"78.268055\"/>\n     <use style=\"fill:#0000ff;stroke:#0000ff;\" x=\"79.477965\" xlink:href=\"#m5cbf6a4378\" y=\"214.756364\"/>\n     <use style=\"fill:#0000ff;stroke:#0000ff;\" x=\"135.278491\" xlink:href=\"#m5cbf6a4378\" y=\"170.444564\"/>\n     <use style=\"fill:#0000ff;stroke:#0000ff;\" x=\"65.499432\" xlink:href=\"#m5cbf6a4378\" y=\"203.456651\"/>\n     <use style=\"fill:#0000ff;stroke:#0000ff;\" x=\"76.159364\" xlink:href=\"#m5cbf6a4378\" y=\"200.29016\"/>\n     <use style=\"fill:#0000ff;stroke:#0000ff;\" x=\"226.515221\" xlink:href=\"#m5cbf6a4378\" y=\"110.045566\"/>\n     <use style=\"fill:#0000ff;stroke:#0000ff;\" x=\"320.974457\" xlink:href=\"#m5cbf6a4378\" y=\"53.535645\"/>\n     <use style=\"fill:#0000ff;stroke:#0000ff;\" x=\"101.258449\" xlink:href=\"#m5cbf6a4378\" y=\"182.279867\"/>\n     <use style=\"fill:#0000ff;stroke:#0000ff;\" x=\"100.358256\" xlink:href=\"#m5cbf6a4378\" y=\"188.630709\"/>\n     <use style=\"fill:#0000ff;stroke:#0000ff;\" x=\"317.123002\" xlink:href=\"#m5cbf6a4378\" y=\"68.160432\"/>\n     <use style=\"fill:#0000ff;stroke:#0000ff;\" x=\"201.926372\" xlink:href=\"#m5cbf6a4378\" y=\"137.535538\"/>\n     <use style=\"fill:#0000ff;stroke:#0000ff;\" x=\"291.702781\" xlink:href=\"#m5cbf6a4378\" y=\"79.866117\"/>\n     <use style=\"fill:#0000ff;stroke:#0000ff;\" x=\"159.272723\" xlink:href=\"#m5cbf6a4378\" y=\"141.938941\"/>\n     <use style=\"fill:#0000ff;stroke:#0000ff;\" x=\"181.38754\" xlink:href=\"#m5cbf6a4378\" y=\"154.306109\"/>\n     <use style=\"fill:#0000ff;stroke:#0000ff;\" x=\"200.147256\" xlink:href=\"#m5cbf6a4378\" y=\"126.177487\"/>\n     <use style=\"fill:#0000ff;stroke:#0000ff;\" x=\"181.889744\" xlink:href=\"#m5cbf6a4378\" y=\"132.47376\"/>\n     <use style=\"fill:#0000ff;stroke:#0000ff;\" x=\"279.767748\" xlink:href=\"#m5cbf6a4378\" y=\"76.233906\"/>\n     <use style=\"fill:#0000ff;stroke:#0000ff;\" x=\"245.849594\" xlink:href=\"#m5cbf6a4378\" y=\"94.589101\"/>\n     <use style=\"fill:#0000ff;stroke:#0000ff;\" x=\"177.217074\" xlink:href=\"#m5cbf6a4378\" y=\"134.811849\"/>\n     <use style=\"fill:#0000ff;stroke:#0000ff;\" x=\"357.34128\" xlink:href=\"#m5cbf6a4378\" y=\"24.714631\"/>\n     <use style=\"fill:#0000ff;stroke:#0000ff;\" x=\"249.837779\" xlink:href=\"#m5cbf6a4378\" y=\"104.579321\"/>\n     <use style=\"fill:#0000ff;stroke:#0000ff;\" x=\"369.863068\" xlink:href=\"#m5cbf6a4378\" y=\"38.064926\"/>\n     <use style=\"fill:#0000ff;stroke:#0000ff;\" x=\"208.582357\" xlink:href=\"#m5cbf6a4378\" y=\"126.726859\"/>\n     <use style=\"fill:#0000ff;stroke:#0000ff;\" x=\"119.482579\" xlink:href=\"#m5cbf6a4378\" y=\"193.935622\"/>\n     <use style=\"fill:#0000ff;stroke:#0000ff;\" x=\"238.27055\" xlink:href=\"#m5cbf6a4378\" y=\"95.419706\"/>\n     <use style=\"fill:#0000ff;stroke:#0000ff;\" x=\"190.620637\" xlink:href=\"#m5cbf6a4378\" y=\"121.234767\"/>\n     <use style=\"fill:#0000ff;stroke:#0000ff;\" x=\"332.469016\" xlink:href=\"#m5cbf6a4378\" y=\"48.845788\"/>\n     <use style=\"fill:#0000ff;stroke:#0000ff;\" x=\"154.043125\" xlink:href=\"#m5cbf6a4378\" y=\"163.592645\"/>\n     <use style=\"fill:#0000ff;stroke:#0000ff;\" x=\"351.099689\" xlink:href=\"#m5cbf6a4378\" y=\"27.237359\"/>\n     <use style=\"fill:#0000ff;stroke:#0000ff;\" x=\"207.418604\" xlink:href=\"#m5cbf6a4378\" y=\"120.861236\"/>\n     <use style=\"fill:#0000ff;stroke:#0000ff;\" x=\"191.971113\" xlink:href=\"#m5cbf6a4378\" y=\"148.727066\"/>\n     <use style=\"fill:#0000ff;stroke:#0000ff;\" x=\"266.948025\" xlink:href=\"#m5cbf6a4378\" y=\"82.625611\"/>\n     <use style=\"fill:#0000ff;stroke:#0000ff;\" x=\"156.029578\" xlink:href=\"#m5cbf6a4378\" y=\"142.434741\"/>\n     <use style=\"fill:#0000ff;stroke:#0000ff;\" x=\"350.30576\" xlink:href=\"#m5cbf6a4378\" y=\"27.288179\"/>\n     <use style=\"fill:#0000ff;stroke:#0000ff;\" x=\"169.185397\" xlink:href=\"#m5cbf6a4378\" y=\"136.803867\"/>\n     <use style=\"fill:#0000ff;stroke:#0000ff;\" x=\"200.985248\" xlink:href=\"#m5cbf6a4378\" y=\"136.517574\"/>\n     <use style=\"fill:#0000ff;stroke:#0000ff;\" x=\"187.257848\" xlink:href=\"#m5cbf6a4378\" y=\"138.069329\"/>\n     <use style=\"fill:#0000ff;stroke:#0000ff;\" x=\"125.802525\" xlink:href=\"#m5cbf6a4378\" y=\"173.738678\"/>\n     <use style=\"fill:#0000ff;stroke:#0000ff;\" x=\"272.506495\" xlink:href=\"#m5cbf6a4378\" y=\"94.677487\"/>\n     <use style=\"fill:#0000ff;stroke:#0000ff;\" x=\"358.511885\" xlink:href=\"#m5cbf6a4378\" y=\"44.475936\"/>\n     <use style=\"fill:#0000ff;stroke:#0000ff;\" x=\"174.881695\" xlink:href=\"#m5cbf6a4378\" y=\"156.115532\"/>\n     <use style=\"fill:#0000ff;stroke:#0000ff;\" x=\"304.405224\" xlink:href=\"#m5cbf6a4378\" y=\"56.807187\"/>\n     <use style=\"fill:#0000ff;stroke:#0000ff;\" x=\"122.758396\" xlink:href=\"#m5cbf6a4378\" y=\"168.212147\"/>\n     <use style=\"fill:#0000ff;stroke:#0000ff;\" x=\"72.493088\" xlink:href=\"#m5cbf6a4378\" y=\"209.702251\"/>\n     <use style=\"fill:#0000ff;stroke:#0000ff;\" x=\"245.259331\" xlink:href=\"#m5cbf6a4378\" y=\"95.633841\"/>\n     <use style=\"fill:#0000ff;stroke:#0000ff;\" x=\"182.561396\" xlink:href=\"#m5cbf6a4378\" y=\"141.311607\"/>\n     <use style=\"fill:#0000ff;stroke:#0000ff;\" x=\"368.96822\" xlink:href=\"#m5cbf6a4378\" y=\"17.083636\"/>\n     <use style=\"fill:#0000ff;stroke:#0000ff;\" x=\"355.594091\" xlink:href=\"#m5cbf6a4378\" y=\"48.88997\"/>\n     <use style=\"fill:#0000ff;stroke:#0000ff;\" x=\"159.934081\" xlink:href=\"#m5cbf6a4378\" y=\"153.807082\"/>\n     <use style=\"fill:#0000ff;stroke:#0000ff;\" x=\"130.663172\" xlink:href=\"#m5cbf6a4378\" y=\"161.567643\"/>\n     <use style=\"fill:#0000ff;stroke:#0000ff;\" x=\"251.064638\" xlink:href=\"#m5cbf6a4378\" y=\"86.017627\"/>\n     <use style=\"fill:#0000ff;stroke:#0000ff;\" x=\"245.772479\" xlink:href=\"#m5cbf6a4378\" y=\"101.796972\"/>\n     <use style=\"fill:#0000ff;stroke:#0000ff;\" x=\"178.069768\" xlink:href=\"#m5cbf6a4378\" y=\"132.387354\"/>\n     <use style=\"fill:#0000ff;stroke:#0000ff;\" x=\"270.145808\" xlink:href=\"#m5cbf6a4378\" y=\"89.24635\"/>\n     <use style=\"fill:#0000ff;stroke:#0000ff;\" x=\"332.626384\" xlink:href=\"#m5cbf6a4378\" y=\"37.970433\"/>\n     <use style=\"fill:#0000ff;stroke:#0000ff;\" x=\"300.383989\" xlink:href=\"#m5cbf6a4378\" y=\"67.989383\"/>\n     <use style=\"fill:#0000ff;stroke:#0000ff;\" x=\"79.043331\" xlink:href=\"#m5cbf6a4378\" y=\"188.768572\"/>\n     <use style=\"fill:#0000ff;stroke:#0000ff;\" x=\"154.295813\" xlink:href=\"#m5cbf6a4378\" y=\"154.481512\"/>\n     <use style=\"fill:#0000ff;stroke:#0000ff;\" x=\"272.988737\" xlink:href=\"#m5cbf6a4378\" y=\"76.67985\"/>\n     <use style=\"fill:#0000ff;stroke:#0000ff;\" x=\"264.851269\" xlink:href=\"#m5cbf6a4378\" y=\"93.970313\"/>\n     <use style=\"fill:#0000ff;stroke:#0000ff;\" x=\"154.799647\" xlink:href=\"#m5cbf6a4378\" y=\"145.705168\"/>\n     <use style=\"fill:#0000ff;stroke:#0000ff;\" x=\"250.709044\" xlink:href=\"#m5cbf6a4378\" y=\"102.573519\"/>\n     <use style=\"fill:#0000ff;stroke:#0000ff;\" x=\"103.706769\" xlink:href=\"#m5cbf6a4378\" y=\"182.076012\"/>\n     <use style=\"fill:#0000ff;stroke:#0000ff;\" x=\"135.02654\" xlink:href=\"#m5cbf6a4378\" y=\"162.043644\"/>\n     <use style=\"fill:#0000ff;stroke:#0000ff;\" x=\"323.033784\" xlink:href=\"#m5cbf6a4378\" y=\"69.589268\"/>\n     <use style=\"fill:#0000ff;stroke:#0000ff;\" x=\"307.671877\" xlink:href=\"#m5cbf6a4378\" y=\"73.857663\"/>\n     <use style=\"fill:#0000ff;stroke:#0000ff;\" x=\"141.661644\" xlink:href=\"#m5cbf6a4378\" y=\"165.225393\"/>\n     <use style=\"fill:#0000ff;stroke:#0000ff;\" x=\"243.998247\" xlink:href=\"#m5cbf6a4378\" y=\"113.318252\"/>\n     <use style=\"fill:#0000ff;stroke:#0000ff;\" x=\"96.08167\" xlink:href=\"#m5cbf6a4378\" y=\"199.072859\"/>\n     <use style=\"fill:#0000ff;stroke:#0000ff;\" x=\"194.695212\" xlink:href=\"#m5cbf6a4378\" y=\"120.273451\"/>\n     <use style=\"fill:#0000ff;stroke:#0000ff;\" x=\"151.928347\" xlink:href=\"#m5cbf6a4378\" y=\"153.031654\"/>\n     <use style=\"fill:#0000ff;stroke:#0000ff;\" x=\"110.49456\" xlink:href=\"#m5cbf6a4378\" y=\"179.708175\"/>\n     <use style=\"fill:#0000ff;stroke:#0000ff;\" x=\"246.556648\" xlink:href=\"#m5cbf6a4378\" y=\"87.192502\"/>\n     <use style=\"fill:#0000ff;stroke:#0000ff;\" x=\"282.605258\" xlink:href=\"#m5cbf6a4378\" y=\"81.277893\"/>\n     <use style=\"fill:#0000ff;stroke:#0000ff;\" x=\"244.973131\" xlink:href=\"#m5cbf6a4378\" y=\"90.795623\"/>\n     <use style=\"fill:#0000ff;stroke:#0000ff;\" x=\"179.084349\" xlink:href=\"#m5cbf6a4378\" y=\"151.308504\"/>\n     <use style=\"fill:#0000ff;stroke:#0000ff;\" x=\"362.134071\" xlink:href=\"#m5cbf6a4378\" y=\"29.989716\"/>\n     <use style=\"fill:#0000ff;stroke:#0000ff;\" x=\"203.551055\" xlink:href=\"#m5cbf6a4378\" y=\"140.325572\"/>\n     <use style=\"fill:#0000ff;stroke:#0000ff;\" x=\"164.641625\" xlink:href=\"#m5cbf6a4378\" y=\"137.421527\"/>\n     <use style=\"fill:#0000ff;stroke:#0000ff;\" x=\"293.563908\" xlink:href=\"#m5cbf6a4378\" y=\"75.290496\"/>\n     <use style=\"fill:#0000ff;stroke:#0000ff;\" x=\"350.198296\" xlink:href=\"#m5cbf6a4378\" y=\"28.096473\"/>\n     <use style=\"fill:#0000ff;stroke:#0000ff;\" x=\"140.109689\" xlink:href=\"#m5cbf6a4378\" y=\"167.211613\"/>\n     <use style=\"fill:#0000ff;stroke:#0000ff;\" x=\"251.45955\" xlink:href=\"#m5cbf6a4378\" y=\"102.307309\"/>\n     <use style=\"fill:#0000ff;stroke:#0000ff;\" x=\"236.328855\" xlink:href=\"#m5cbf6a4378\" y=\"119.633113\"/>\n    </g>\n   </g>\n   <g id=\"patch_3\">\n    <path d=\"M 50.28125 224.64 \nL 50.28125 7.2 \n\" style=\"fill:none;stroke:#000000;stroke-linecap:square;stroke-linejoin:miter;stroke-width:0.8;\"/>\n   </g>\n   <g id=\"patch_4\">\n    <path d=\"M 385.08125 224.64 \nL 385.08125 7.2 \n\" style=\"fill:none;stroke:#000000;stroke-linecap:square;stroke-linejoin:miter;stroke-width:0.8;\"/>\n   </g>\n   <g id=\"patch_5\">\n    <path d=\"M 50.28125 224.64 \nL 385.08125 224.64 \n\" style=\"fill:none;stroke:#000000;stroke-linecap:square;stroke-linejoin:miter;stroke-width:0.8;\"/>\n   </g>\n   <g id=\"patch_6\">\n    <path d=\"M 50.28125 7.2 \nL 385.08125 7.2 \n\" style=\"fill:none;stroke:#000000;stroke-linecap:square;stroke-linejoin:miter;stroke-width:0.8;\"/>\n   </g>\n  </g>\n </g>\n <defs>\n  <clipPath id=\"pf6d110acca\">\n   <rect height=\"217.44\" width=\"334.8\" x=\"50.28125\" y=\"7.2\"/>\n  </clipPath>\n </defs>\n</svg>\n",
      "image/png": "[encoded data removed]"
     },
     "metadata": {
      "needs_background": "light"
     }
    }
   ],
   "source": [
    "plt.plot(X,y,'b.')\n",
    "plt.xlabel(\"x\",fontsize=20)\n",
    "plt.ylabel(\"y\",fontsize=20)"
   ]
  },
  {
   "cell_type": "code",
   "execution_count": 7,
   "metadata": {},
   "outputs": [],
   "source": [
    "def calc_params(X: np.ndarray, Y: np.ndarray) -> (np.ndarray, float):\n",
    "\n",
    "    m = (len(X) * np.sum(X * Y) - np.sum(X) * np.sum(Y)) / (len(X) * np.sum(X*X) - np.sum(X)**2)\n",
    "        \n",
    "    ## calculate intercept\n",
    "    b = np.sum(Y) - (m * np.sum(X))\n",
    "\n",
    "    b = b/len(X)\n",
    "\n",
    "    return np.around(m,2), np.around(b,2)"
   ]
  },
  {
   "cell_type": "code",
   "execution_count": 8,
   "metadata": {},
   "outputs": [],
   "source": [
    "def plot(X,Y):\n",
    "    \n",
    "    m1,b1 = theta[1],theta[0]\n",
    "    print(\"GD:\",'Slope of line:',m1,\", Y-intercept:\",b1)\n",
    "    \n",
    "    \n",
    "    m2,b2 = calc_params(X,Y)\n",
    "    print(\"Least Sq:\",'Slope of line:',m2,\", Y-intercept:\",b2)\n",
    "    \n",
    "    plt.scatter(X,Y)\n",
    "\n",
    "    plt.plot(X, m1*X+b1, '-r', label='Y='+str(m1)+'*X+'+str(b1))\n",
    "    plt.plot(X, m2*X+b2, '-.g', label='Y='+str(m2)+'*X+'+str(b2))\n",
    "    \n",
    "    plt.legend(loc='upper left')"
   ]
  },
  {
   "cell_type": "code",
   "execution_count": 9,
   "metadata": {},
   "outputs": [
    {
     "output_type": "stream",
     "name": "stdout",
     "text": [
      "iter: 0, Cost:  31.562\niter: 50, Cost:  0.244\nTheta0:          3.613,\nTheta1:          3.802\nFinal cost/MSE:  0.14818\n"
     ]
    }
   ],
   "source": [
    "lr =0.05\n",
    "n_iter = 100\n",
    "\n",
    "theta = np.random.randn(2,1)\n",
    "\n",
    "X_b = np.c_[np.ones((len(X),1)),X]\n",
    "theta,cost_history,theta_history = gradient_descent(X_b,y,theta,lr,n_iter)\n",
    "\n",
    "\n",
    "print('Theta0:          {:0.3f},\\nTheta1:          {:0.3f}'.format(theta[0][0],theta[1][0]))\n",
    "print('Final cost/MSE:  {:0.5f}'.format(cost_history[-1]))"
   ]
  },
  {
   "cell_type": "code",
   "execution_count": null,
   "metadata": {},
   "outputs": [],
   "source": []
  }
 ],
 "metadata": {
  "kernelspec": {
   "display_name": "Python 3",
   "language": "python",
   "name": "python3"
  },
  "language_info": {
   "codemirror_mode": {
    "name": "ipython",
    "version": 3
   },
   "file_extension": ".py",
   "mimetype": "text/x-python",
   "name": "python",
   "nbconvert_exporter": "python",
   "pygments_lexer": "ipython3",
   "version": "3.8.5-final"
  }
 },
 "nbformat": 4,
 "nbformat_minor": 2
}