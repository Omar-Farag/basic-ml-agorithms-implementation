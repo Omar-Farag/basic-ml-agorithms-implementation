{
 "cells": [
  {
   "cell_type": "code",
   "execution_count": 203,
   "metadata": {},
   "outputs": [],
   "source": [
    "import numpy as np\n",
    "import matplotlib.pyplot as plt"
   ]
  },
  {
   "cell_type": "markdown",
   "metadata": {},
   "source": [
    "### Loss function for linear Regression\n",
    "\\begin{equation}\n",
    "J = MSE = \\frac{1}{2*N} * \\sum(Y - h(\\theta))^2\n",
    "\\end{equation}"
   ]
  },
  {
   "cell_type": "code",
   "execution_count": 308,
   "metadata": {},
   "outputs": [],
   "source": [
    "def cost_function(Y,X,theta):\n",
    "    \n",
    "    predictions = np.dot(X,theta)\n",
    "    \n",
    "    error = np.sum(np.square(Y-predictions))\n",
    "    \n",
    "    error = error/(2*len(Y))\n",
    "    \n",
    "    return error"
   ]
  },
  {
   "cell_type": "markdown",
   "metadata": {},
   "source": [
    "### Gradient Descent\n",
    "#### Optimizing parameters depends on partial derivatives (as each paramater contribute to the model performance)\n",
    "\\begin{equation}\n",
    "\\frac{1}{N} \\frac{\\partial J}{\\partial m} =\\sum [-2*X (Y - (m*X + b))]\n",
    "\\end{equation}\n",
    "\n",
    "\\begin{equation}\n",
    "\\frac{1}{N} \\frac{\\partial J}{\\partial b} = \\sum [-2* (Y - (m*X + b))]\n",
    "\\end{equation}\n",
    "\n",
    "\\begin{equation}\n",
    "    \\theta = \\theta - \\alpha * \\frac{\\partial J(\\theta)}{\\partial \\theta}\n",
    "\\end{equation}"
   ]
  },
  {
   "cell_type": "code",
   "execution_count": 316,
   "metadata": {},
   "outputs": [],
   "source": [
    "def update_weights(y_truth,X,theta,lr): # one iter of gradient descent:\n",
    "    \n",
    "    m=len(y_truth)\n",
    "    predictions = np.dot(X,theta)\n",
    "        \n",
    "    theta = theta - (1/m) * lr * X.T.dot(predictions - y)\n",
    "    \n",
    "    return theta"
   ]
  },
  {
   "cell_type": "code",
   "execution_count": 361,
   "metadata": {},
   "outputs": [],
   "source": [
    "def gradient_descent(X,y,theta,lr=0.01,iterations=100):\n",
    "    '''\n",
    "    X    = Matrix of X with added bias units\n",
    "    y    = Vector of Y\n",
    "    theta=Vector of thetas np.random.randn(j,1)\n",
    "    learning_rate \n",
    "    iterations = no of iterations\n",
    "    \n",
    "    Returns the final theta vector and array of cost history over no of iterations\n",
    "    '''\n",
    "    m = len(y)\n",
    "    cost_history = []\n",
    "    theta_history = []\n",
    "    \n",
    "    for i in range(iterations):\n",
    "        \n",
    "        \n",
    "        theta = update_weights(y,X,theta,lr)\n",
    "        \n",
    "        theta_history.append(theta.T)\n",
    "        \n",
    "        cost_history.append(cost_function(Y,X,theta))\n",
    "        \n",
    "        if(i%50==0):\n",
    "            print('iter: {:d}, Cost:  {:0.3f}'.format(i,cost_history[i]))\n",
    "        \n",
    "    return theta, cost_history, theta_history\n",
    "        \n",
    "    \n",
    "    "
   ]
  },
  {
   "cell_type": "code",
   "execution_count": 423,
   "metadata": {},
   "outputs": [],
   "source": [
    "X = 2 * np.random.rand(100,1)\n",
    "y = 4 + 3 * X+np.random.rand(100,1)"
   ]
  },
  {
   "cell_type": "code",
   "execution_count": 424,
   "metadata": {},
   "outputs": [
    {
     "data": {
      "text/plain": [
       "Text(0, 0.5, 'y')"
      ]
     },
     "execution_count": 424,
     "metadata": {},
     "output_type": "execute_result"
    },
    {
     "data": {
      "image/png": "[encoded data removed]",
      "text/plain": [
       "<Figure size 432x288 with 1 Axes>"
      ]
     },
     "metadata": {
      "needs_background": "light"
     },
     "output_type": "display_data"
    }
   ],
   "source": [
    "plt.plot(X,y,'b.')\n",
    "plt.xlabel(\"x\",fontsize=20)\n",
    "plt.ylabel(\"y\",fontsize=20)"
   ]
  },
  {
   "cell_type": "code",
   "execution_count": 447,
   "metadata": {},
   "outputs": [
    {
     "name": "stdout",
     "output_type": "stream",
     "text": [
      "iter: 0, Cost:  3.799\n",
      "iter: 50, Cost:  27.272\n",
      "Theta0:          3.973,\n",
      "Theta1:          3.428\n",
      "Final cost/MSE:  27.36055\n"
     ]
    }
   ],
   "source": [
    "lr =0.05\n",
    "n_iter = 100\n",
    "\n",
    "theta = np.random.randn(2,1)\n",
    "\n",
    "X_b = np.c_[np.ones((len(X),1)),X]\n",
    "theta,cost_history,theta_history = gradient_descent(X_b,y,theta,lr,n_iter)\n",
    "\n",
    "\n",
    "print('Theta0:          {:0.3f},\\nTheta1:          {:0.3f}'.format(theta[0][0],theta[1][0]))\n",
    "print('Final cost/MSE:  {:0.5f}'.format(cost_history[-1]))"
   ]
  },
  {
   "cell_type": "code",
   "execution_count": 448,
   "metadata": {},
   "outputs": [],
   "source": [
    "def calc_params(X: np.ndarray, Y: np.ndarray) -> (np.ndarray, float):\n",
    "\n",
    "    m = (len(X) * np.sum(X * Y) - np.sum(X) * np.sum(Y)) / (len(X) * np.sum(X*X) - np.sum(X)**2)\n",
    "        \n",
    "    ## calculate intercept\n",
    "    b = np.sum(Y) - (m * np.sum(X))\n",
    "\n",
    "    b = b/len(X)\n",
    "\n",
    "    return np.around(m,2), np.around(b,2)"
   ]
  },
  {
   "cell_type": "code",
   "execution_count": 449,
   "metadata": {},
   "outputs": [],
   "source": [
    "def plot(X,Y):\n",
    "    \n",
    "    m1,b1 = theta[1],theta[0]\n",
    "    print(\"GD:\",'Slope of line:',m1,\", Y-intercept:\",b1)\n",
    "    \n",
    "    \n",
    "    m2,b2 = calc_params(X,Y)\n",
    "    print(\"Least Sq:\",'Slope of line:',m2,\", Y-intercept:\",b2)\n",
    "    \n",
    "    plt.scatter(X,Y)\n",
    "\n",
    "    plt.plot(X, m1*X+b1, '-r', label='Y='+str(m1)+'*X+'+str(b1))\n",
    "    plt.plot(X, m2*X+b2, '-.g', label='Y='+str(m2)+'*X+'+str(b2))\n",
    "    \n",
    "    plt.legend(loc='upper left')"
   ]
  }
 ],
 "metadata": {
  "kernelspec": {
   "display_name": "Python 3",
   "language": "python",
   "name": "python3"
  },
  "language_info": {
   "codemirror_mode": {
    "name": "ipython",
    "version": 3
   },
   "file_extension": ".py",
   "mimetype": "text/x-python",
   "name": "python",
   "nbconvert_exporter": "python",
   "pygments_lexer": "ipython3",
   "version": "3.6.9"
  }
 },
 "nbformat": 4,
 "nbformat_minor": 2
}
