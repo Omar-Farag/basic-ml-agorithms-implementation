{
 "cells": [
  {
   "cell_type": "markdown",
   "metadata": {},
   "source": [
    "# Linear Regression Summary \n",
    "### Equation\n",
    "\n",
    "\\begin{equation}\n",
    "Y = mX + b\n",
    "\\end{equation}\n",
    "##### Where Y represent observations and X represent the explantory features; m is the slope while b is the intercept with y-axis.\n",
    "\n",
    "### Least Squares Regression\n",
    "\n",
    "\\begin{equation}\n",
    "m = \\frac{n * \\sum (X*Y) - (\\sum(X)*\\sum(Y))} {n * \\sum(X^2) - \\sum(X)^2}\n",
    "\\end{equation}\n",
    "\n",
    "\n",
    "* The Least Squares Regression (lsq) method is the simplest and most common for finding a best fit line for observed data points. \n",
    "* This method minimizes the sum of the squares of the vertical deviations from each data point to the line [1]"
   ]
  },
  {
   "cell_type": "markdown",
   "metadata": {},
   "source": [
    "### Implementation"
   ]
  },
  {
   "cell_type": "code",
   "execution_count": 1,
   "metadata": {},
   "outputs": [],
   "source": [
    "import numpy as np\n",
    "import matplotlib.pyplot as plt"
   ]
  },
  {
   "cell_type": "code",
   "execution_count": 2,
   "metadata": {},
   "outputs": [],
   "source": [
    "def calc_params(X: np.ndarray, Y: np.ndarray) -> (np.ndarray, float):\n",
    "\n",
    "    m = (len(X) * np.sum(X * Y) - np.sum(X) * np.sum(Y)) / (len(X) * np.sum(X*X) - np.sum(X)**2)\n",
    "        \n",
    "    ## calculate intercept\n",
    "    b = np.sum(Y) - (m * np.sum(X))\n",
    "\n",
    "    b = b/len(X)\n",
    "\n",
    "    return np.around(m,2), np.around(b,2)"
   ]
  },
  {
   "cell_type": "markdown",
   "metadata": {},
   "source": [
    "### Calculate slope and intercept for best-fit line to these points"
   ]
  },
  {
   "cell_type": "code",
   "execution_count": 3,
   "metadata": {},
   "outputs": [],
   "source": [
    "def plot(X,Y):\n",
    "    \n",
    "    m,b = calc_params(X,Y)\n",
    "    print('Slope of line:',m,\", Y-intercept:\",b)\n",
    "    plt.scatter(X,Y)\n",
    "\n",
    "    plt.plot(X, m*X+b, '-r', label='Y='+str(m)+'*X+'+str(b))\n",
    "    plt.legend(loc='upper left')"
   ]
  },
  {
   "cell_type": "code",
   "execution_count": 6,
   "metadata": {},
   "outputs": [],
   "source": [
    "X = np.random.randint(1,100,size=(40,1))\n",
    "Y = np.random.randint(1,100,size=(40,1))"
   ]
  },
  {
   "cell_type": "code",
   "execution_count": 7,
   "metadata": {},
   "outputs": [
    {
     "name": "stdout",
     "output_type": "stream",
     "text": [
      "Slope of line: 0.27 , Y-intercept: 44.98\n"
     ]
    },
    {
     "data": {
      "image/png": "[encoded data removed]",
      "text/plain": [
       "<Figure size 432x288 with 1 Axes>"
      ]
     },
     "metadata": {
      "needs_background": "light"
     },
     "output_type": "display_data"
    }
   ],
   "source": [
    "plot(X,Y)"
   ]
  },
  {
   "cell_type": "code",
   "execution_count": null,
   "metadata": {},
   "outputs": [],
   "source": []
  }
 ],
 "metadata": {
  "kernelspec": {
   "display_name": "Python 3",
   "language": "python",
   "name": "python3"
  },
  "language_info": {
   "codemirror_mode": {
    "name": "ipython",
    "version": 3
   },
   "file_extension": ".py",
   "mimetype": "text/x-python",
   "name": "python",
   "nbconvert_exporter": "python",
   "pygments_lexer": "ipython3",
   "version": "3.6.9"
  }
 },
 "nbformat": 4,
 "nbformat_minor": 2
}
